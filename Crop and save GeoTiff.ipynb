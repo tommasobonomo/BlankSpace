{
 "cells": [
  {
   "cell_type": "code",
   "execution_count": 1,
   "metadata": {},
   "outputs": [],
   "source": [
    "import json\n",
    "import rasterio as rio\n",
    "import geopandas as gpd\n",
    "\n",
    "from fiona.crs import from_epsg\n",
    "from shapely.geometry import box\n",
    "from rasterio.mask import mask"
   ]
  },
  {
   "cell_type": "markdown",
   "metadata": {},
   "source": [
    "# Crop and save GeoTiff\n",
    "\n",
    "A small notebook to crop massive sized GeoTiffs to something more manageable."
   ]
  },
  {
   "cell_type": "markdown",
   "metadata": {},
   "source": [
    "Define paths of massive image and the output path"
   ]
  },
  {
   "cell_type": "code",
   "execution_count": 2,
   "metadata": {},
   "outputs": [],
   "source": [
    "data_path = \"data/too_big/20181013_095233_Tri_80cm_RD_8bit_RGB_Middelburg.tif\"\n",
    "out_tif = \"data/20181013-kortgene-highres/20181013-kortgene-allbands.tif\"\n",
    "tiff_file = rio.open(data_path)"
   ]
  },
  {
   "cell_type": "markdown",
   "metadata": {},
   "source": [
    "Define the bounding box in WGS84 coordinates:"
   ]
  },
  {
   "cell_type": "code",
   "execution_count": 3,
   "metadata": {},
   "outputs": [],
   "source": [
    "min_x, min_y = 3.774023802020978, 51.563824535249466\n",
    "max_x, max_y = 3.809986860492658, 51.57916179810492\n",
    "geometry = box(min_x, min_y, max_x, max_y)\n",
    "geometry_crs = from_epsg(4326)\n",
    "geo = gpd.GeoDataFrame({\"geometry\": geometry}, index=[0], crs=geometry_crs)"
   ]
  },
  {
   "cell_type": "markdown",
   "metadata": {},
   "source": [
    "Open and crop the massive GeoTiff"
   ]
  },
  {
   "cell_type": "code",
   "execution_count": 4,
   "metadata": {},
   "outputs": [],
   "source": [
    "with rio.open(data_path) as tiff_file:\n",
    "    # Project bounding box to GeoTiff CRS\n",
    "    geo = geo.to_crs(crs=tiff_file.crs.data)\n",
    "    # Convert geometry to something that rasterio understands\n",
    "    raster_geometry = [json.loads(geo.to_json())['features'][0]['geometry']]\n",
    "    # Crop the image\n",
    "    cropped_image, cropped_transform = mask(tiff_file, shapes=raster_geometry, crop=True)\n",
    "    # Copy the image metadata\n",
    "    cropped_meta = tiff_file.meta.copy()"
   ]
  },
  {
   "cell_type": "markdown",
   "metadata": {},
   "source": [
    "Update the cropped image metadata"
   ]
  },
  {
   "cell_type": "code",
   "execution_count": 5,
   "metadata": {},
   "outputs": [],
   "source": [
    "cropped_meta.update({\n",
    "    \"count\": cropped_image.shape[0],\n",
    "    \"height\": cropped_image.shape[1],\n",
    "    \"width\": cropped_image.shape[2],\n",
    "    \"transform\": cropped_transform\n",
    "})"
   ]
  },
  {
   "cell_type": "markdown",
   "metadata": {},
   "source": [
    "Write to output file"
   ]
  },
  {
   "cell_type": "code",
   "execution_count": 6,
   "metadata": {},
   "outputs": [],
   "source": [
    "with rio.open(out_tif, \"w\", **cropped_meta) as dest:\n",
    "    dest.write(cropped_image)"
   ]
  }
 ],
 "metadata": {
  "language_info": {
   "codemirror_mode": {
    "name": "ipython",
    "version": 3
   },
   "file_extension": ".py",
   "mimetype": "text/x-python",
   "name": "python",
   "nbconvert_exporter": "python",
   "pygments_lexer": "ipython3",
   "version": "3.8.2-final"
  },
  "orig_nbformat": 2,
  "kernelspec": {
   "name": "python38264bit921e5ba5529a4b499b6e134f7d426de3",
   "display_name": "Python 3.8.2 64-bit"
  }
 },
 "nbformat": 4,
 "nbformat_minor": 2
}